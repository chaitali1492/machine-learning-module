{
 "cells": [
  {
   "cell_type": "code",
   "execution_count": 6,
   "id": "d8c145bd-e1a1-4f5a-aeb8-fef034264b83",
   "metadata": {},
   "outputs": [],
   "source": [
    "import pandas as pd;\n",
    "import numpy as np;\n",
    "import matplotlib.pyplot as plt;\n",
    "import seaborn as sns;\n",
    "\n",
    "import warnings;\n",
    "warnings.filterwarnings('ignore');"
   ]
  },
  {
   "cell_type": "markdown",
   "id": "e4c17641-0bd5-4626-8e22-67bbc27846dc",
   "metadata": {},
   "source": [
    "### Import Dataset:"
   ]
  },
  {
   "cell_type": "code",
   "execution_count": 8,
   "id": "67c55dd9-a162-418f-846d-cc99e669d5b3",
   "metadata": {},
   "outputs": [
    {
     "data": {
      "text/html": [
       "<div>\n",
       "<style scoped>\n",
       "    .dataframe tbody tr th:only-of-type {\n",
       "        vertical-align: middle;\n",
       "    }\n",
       "\n",
       "    .dataframe tbody tr th {\n",
       "        vertical-align: top;\n",
       "    }\n",
       "\n",
       "    .dataframe thead th {\n",
       "        text-align: right;\n",
       "    }\n",
       "</style>\n",
       "<table border=\"1\" class=\"dataframe\">\n",
       "  <thead>\n",
       "    <tr style=\"text-align: right;\">\n",
       "      <th></th>\n",
       "      <th>destination</th>\n",
       "      <th>passanger</th>\n",
       "      <th>weather</th>\n",
       "      <th>temperature</th>\n",
       "      <th>coupon</th>\n",
       "      <th>expiration</th>\n",
       "      <th>gender</th>\n",
       "      <th>age</th>\n",
       "      <th>maritalStatus</th>\n",
       "      <th>has_children</th>\n",
       "      <th>...</th>\n",
       "      <th>CoffeeHouse</th>\n",
       "      <th>CarryAway</th>\n",
       "      <th>RestaurantLessThan20</th>\n",
       "      <th>Restaurant20To50</th>\n",
       "      <th>toCoupon_GEQ5min</th>\n",
       "      <th>toCoupon_GEQ15min</th>\n",
       "      <th>toCoupon_GEQ25min</th>\n",
       "      <th>direction_same</th>\n",
       "      <th>direction_opp</th>\n",
       "      <th>Accept(Y/N?)</th>\n",
       "    </tr>\n",
       "  </thead>\n",
       "  <tbody>\n",
       "    <tr>\n",
       "      <th>0</th>\n",
       "      <td>No Urgent Place</td>\n",
       "      <td>Alone</td>\n",
       "      <td>Sunny</td>\n",
       "      <td>55</td>\n",
       "      <td>Restaurant(&lt;20)</td>\n",
       "      <td>1d</td>\n",
       "      <td>Female</td>\n",
       "      <td>21</td>\n",
       "      <td>Unmarried partner</td>\n",
       "      <td>1</td>\n",
       "      <td>...</td>\n",
       "      <td>never</td>\n",
       "      <td>NaN</td>\n",
       "      <td>4~8</td>\n",
       "      <td>1~3</td>\n",
       "      <td>1</td>\n",
       "      <td>0</td>\n",
       "      <td>0</td>\n",
       "      <td>0</td>\n",
       "      <td>1</td>\n",
       "      <td>1</td>\n",
       "    </tr>\n",
       "    <tr>\n",
       "      <th>1</th>\n",
       "      <td>No Urgent Place</td>\n",
       "      <td>Friend(s)</td>\n",
       "      <td>Sunny</td>\n",
       "      <td>80</td>\n",
       "      <td>Coffee House</td>\n",
       "      <td>2h</td>\n",
       "      <td>Female</td>\n",
       "      <td>21</td>\n",
       "      <td>Unmarried partner</td>\n",
       "      <td>1</td>\n",
       "      <td>...</td>\n",
       "      <td>never</td>\n",
       "      <td>NaN</td>\n",
       "      <td>4~8</td>\n",
       "      <td>1~3</td>\n",
       "      <td>1</td>\n",
       "      <td>0</td>\n",
       "      <td>0</td>\n",
       "      <td>0</td>\n",
       "      <td>1</td>\n",
       "      <td>0</td>\n",
       "    </tr>\n",
       "    <tr>\n",
       "      <th>2</th>\n",
       "      <td>No Urgent Place</td>\n",
       "      <td>Friend(s)</td>\n",
       "      <td>Sunny</td>\n",
       "      <td>80</td>\n",
       "      <td>Carry out &amp; Take away</td>\n",
       "      <td>2h</td>\n",
       "      <td>Female</td>\n",
       "      <td>21</td>\n",
       "      <td>Unmarried partner</td>\n",
       "      <td>1</td>\n",
       "      <td>...</td>\n",
       "      <td>never</td>\n",
       "      <td>NaN</td>\n",
       "      <td>4~8</td>\n",
       "      <td>1~3</td>\n",
       "      <td>1</td>\n",
       "      <td>1</td>\n",
       "      <td>0</td>\n",
       "      <td>0</td>\n",
       "      <td>1</td>\n",
       "      <td>1</td>\n",
       "    </tr>\n",
       "    <tr>\n",
       "      <th>3</th>\n",
       "      <td>No Urgent Place</td>\n",
       "      <td>Friend(s)</td>\n",
       "      <td>Sunny</td>\n",
       "      <td>80</td>\n",
       "      <td>Coffee House</td>\n",
       "      <td>2h</td>\n",
       "      <td>Female</td>\n",
       "      <td>21</td>\n",
       "      <td>Unmarried partner</td>\n",
       "      <td>1</td>\n",
       "      <td>...</td>\n",
       "      <td>never</td>\n",
       "      <td>NaN</td>\n",
       "      <td>4~8</td>\n",
       "      <td>1~3</td>\n",
       "      <td>1</td>\n",
       "      <td>1</td>\n",
       "      <td>0</td>\n",
       "      <td>0</td>\n",
       "      <td>1</td>\n",
       "      <td>0</td>\n",
       "    </tr>\n",
       "    <tr>\n",
       "      <th>4</th>\n",
       "      <td>No Urgent Place</td>\n",
       "      <td>Friend(s)</td>\n",
       "      <td>Sunny</td>\n",
       "      <td>80</td>\n",
       "      <td>Coffee House</td>\n",
       "      <td>1d</td>\n",
       "      <td>Female</td>\n",
       "      <td>21</td>\n",
       "      <td>Unmarried partner</td>\n",
       "      <td>1</td>\n",
       "      <td>...</td>\n",
       "      <td>never</td>\n",
       "      <td>NaN</td>\n",
       "      <td>4~8</td>\n",
       "      <td>1~3</td>\n",
       "      <td>1</td>\n",
       "      <td>1</td>\n",
       "      <td>0</td>\n",
       "      <td>0</td>\n",
       "      <td>1</td>\n",
       "      <td>0</td>\n",
       "    </tr>\n",
       "  </tbody>\n",
       "</table>\n",
       "<p>5 rows × 25 columns</p>\n",
       "</div>"
      ],
      "text/plain": [
       "       destination  passanger weather  temperature                 coupon  \\\n",
       "0  No Urgent Place      Alone   Sunny           55        Restaurant(<20)   \n",
       "1  No Urgent Place  Friend(s)   Sunny           80           Coffee House   \n",
       "2  No Urgent Place  Friend(s)   Sunny           80  Carry out & Take away   \n",
       "3  No Urgent Place  Friend(s)   Sunny           80           Coffee House   \n",
       "4  No Urgent Place  Friend(s)   Sunny           80           Coffee House   \n",
       "\n",
       "  expiration  gender age      maritalStatus  has_children  ... CoffeeHouse  \\\n",
       "0         1d  Female  21  Unmarried partner             1  ...       never   \n",
       "1         2h  Female  21  Unmarried partner             1  ...       never   \n",
       "2         2h  Female  21  Unmarried partner             1  ...       never   \n",
       "3         2h  Female  21  Unmarried partner             1  ...       never   \n",
       "4         1d  Female  21  Unmarried partner             1  ...       never   \n",
       "\n",
       "  CarryAway RestaurantLessThan20 Restaurant20To50 toCoupon_GEQ5min  \\\n",
       "0       NaN                  4~8              1~3                1   \n",
       "1       NaN                  4~8              1~3                1   \n",
       "2       NaN                  4~8              1~3                1   \n",
       "3       NaN                  4~8              1~3                1   \n",
       "4       NaN                  4~8              1~3                1   \n",
       "\n",
       "  toCoupon_GEQ15min toCoupon_GEQ25min direction_same direction_opp  \\\n",
       "0                 0                 0              0             1   \n",
       "1                 0                 0              0             1   \n",
       "2                 1                 0              0             1   \n",
       "3                 1                 0              0             1   \n",
       "4                 1                 0              0             1   \n",
       "\n",
       "   Accept(Y/N?)  \n",
       "0             1  \n",
       "1             0  \n",
       "2             1  \n",
       "3             0  \n",
       "4             0  \n",
       "\n",
       "[5 rows x 25 columns]"
      ]
     },
     "execution_count": 8,
     "metadata": {},
     "output_type": "execute_result"
    }
   ],
   "source": [
    "data = pd.read_csv('Ds_Data.csv')\n",
    "\n",
    "data.head()"
   ]
  },
  {
   "cell_type": "markdown",
   "id": "b43e6af2-61fe-4ff6-9267-2e4a32690996",
   "metadata": {},
   "source": [
    "### Exploratory Data Analysis & Pre-processing:"
   ]
  },
  {
   "cell_type": "code",
   "execution_count": 10,
   "id": "cc583826-8f3f-412c-88d3-87a3b7ff9494",
   "metadata": {},
   "outputs": [
    {
     "name": "stdout",
     "output_type": "stream",
     "text": [
      "<class 'pandas.core.frame.DataFrame'>\n",
      "RangeIndex: 12684 entries, 0 to 12683\n",
      "Data columns (total 25 columns):\n",
      " #   Column                Non-Null Count  Dtype \n",
      "---  ------                --------------  ----- \n",
      " 0   destination           12684 non-null  object\n",
      " 1   passanger             12684 non-null  object\n",
      " 2   weather               12684 non-null  object\n",
      " 3   temperature           12684 non-null  int64 \n",
      " 4   coupon                12684 non-null  object\n",
      " 5   expiration            12684 non-null  object\n",
      " 6   gender                12684 non-null  object\n",
      " 7   age                   12684 non-null  object\n",
      " 8   maritalStatus         12684 non-null  object\n",
      " 9   has_children          12684 non-null  int64 \n",
      " 10  education             12684 non-null  object\n",
      " 11  occupation            12684 non-null  object\n",
      " 12  income                12684 non-null  object\n",
      " 13  car                   108 non-null    object\n",
      " 14  Bar                   12577 non-null  object\n",
      " 15  CoffeeHouse           12467 non-null  object\n",
      " 16  CarryAway             12533 non-null  object\n",
      " 17  RestaurantLessThan20  12554 non-null  object\n",
      " 18  Restaurant20To50      12495 non-null  object\n",
      " 19  toCoupon_GEQ5min      12684 non-null  int64 \n",
      " 20  toCoupon_GEQ15min     12684 non-null  int64 \n",
      " 21  toCoupon_GEQ25min     12684 non-null  int64 \n",
      " 22  direction_same        12684 non-null  int64 \n",
      " 23  direction_opp         12684 non-null  int64 \n",
      " 24  Accept(Y/N?)          12684 non-null  int64 \n",
      "dtypes: int64(8), object(17)\n",
      "memory usage: 2.4+ MB\n"
     ]
    }
   ],
   "source": [
    "data.info()"
   ]
  },
  {
   "cell_type": "code",
   "execution_count": 11,
   "id": "f9020378-629b-4a8b-aa45-c0f5859893bd",
   "metadata": {},
   "outputs": [
    {
     "data": {
      "text/html": [
       "<div>\n",
       "<style scoped>\n",
       "    .dataframe tbody tr th:only-of-type {\n",
       "        vertical-align: middle;\n",
       "    }\n",
       "\n",
       "    .dataframe tbody tr th {\n",
       "        vertical-align: top;\n",
       "    }\n",
       "\n",
       "    .dataframe thead th {\n",
       "        text-align: right;\n",
       "    }\n",
       "</style>\n",
       "<table border=\"1\" class=\"dataframe\">\n",
       "  <thead>\n",
       "    <tr style=\"text-align: right;\">\n",
       "      <th></th>\n",
       "      <th>temperature</th>\n",
       "      <th>has_children</th>\n",
       "      <th>toCoupon_GEQ5min</th>\n",
       "      <th>toCoupon_GEQ15min</th>\n",
       "      <th>toCoupon_GEQ25min</th>\n",
       "      <th>direction_same</th>\n",
       "      <th>direction_opp</th>\n",
       "      <th>Accept(Y/N?)</th>\n",
       "    </tr>\n",
       "  </thead>\n",
       "  <tbody>\n",
       "    <tr>\n",
       "      <th>count</th>\n",
       "      <td>12684.000000</td>\n",
       "      <td>12684.000000</td>\n",
       "      <td>12684.0</td>\n",
       "      <td>12684.000000</td>\n",
       "      <td>12684.000000</td>\n",
       "      <td>12684.000000</td>\n",
       "      <td>12684.000000</td>\n",
       "      <td>12684.000000</td>\n",
       "    </tr>\n",
       "    <tr>\n",
       "      <th>mean</th>\n",
       "      <td>63.301798</td>\n",
       "      <td>0.414144</td>\n",
       "      <td>1.0</td>\n",
       "      <td>0.561495</td>\n",
       "      <td>0.119126</td>\n",
       "      <td>0.214759</td>\n",
       "      <td>0.785241</td>\n",
       "      <td>0.568433</td>\n",
       "    </tr>\n",
       "    <tr>\n",
       "      <th>std</th>\n",
       "      <td>19.154486</td>\n",
       "      <td>0.492593</td>\n",
       "      <td>0.0</td>\n",
       "      <td>0.496224</td>\n",
       "      <td>0.323950</td>\n",
       "      <td>0.410671</td>\n",
       "      <td>0.410671</td>\n",
       "      <td>0.495314</td>\n",
       "    </tr>\n",
       "    <tr>\n",
       "      <th>min</th>\n",
       "      <td>30.000000</td>\n",
       "      <td>0.000000</td>\n",
       "      <td>1.0</td>\n",
       "      <td>0.000000</td>\n",
       "      <td>0.000000</td>\n",
       "      <td>0.000000</td>\n",
       "      <td>0.000000</td>\n",
       "      <td>0.000000</td>\n",
       "    </tr>\n",
       "    <tr>\n",
       "      <th>25%</th>\n",
       "      <td>55.000000</td>\n",
       "      <td>0.000000</td>\n",
       "      <td>1.0</td>\n",
       "      <td>0.000000</td>\n",
       "      <td>0.000000</td>\n",
       "      <td>0.000000</td>\n",
       "      <td>1.000000</td>\n",
       "      <td>0.000000</td>\n",
       "    </tr>\n",
       "    <tr>\n",
       "      <th>50%</th>\n",
       "      <td>80.000000</td>\n",
       "      <td>0.000000</td>\n",
       "      <td>1.0</td>\n",
       "      <td>1.000000</td>\n",
       "      <td>0.000000</td>\n",
       "      <td>0.000000</td>\n",
       "      <td>1.000000</td>\n",
       "      <td>1.000000</td>\n",
       "    </tr>\n",
       "    <tr>\n",
       "      <th>75%</th>\n",
       "      <td>80.000000</td>\n",
       "      <td>1.000000</td>\n",
       "      <td>1.0</td>\n",
       "      <td>1.000000</td>\n",
       "      <td>0.000000</td>\n",
       "      <td>0.000000</td>\n",
       "      <td>1.000000</td>\n",
       "      <td>1.000000</td>\n",
       "    </tr>\n",
       "    <tr>\n",
       "      <th>max</th>\n",
       "      <td>80.000000</td>\n",
       "      <td>1.000000</td>\n",
       "      <td>1.0</td>\n",
       "      <td>1.000000</td>\n",
       "      <td>1.000000</td>\n",
       "      <td>1.000000</td>\n",
       "      <td>1.000000</td>\n",
       "      <td>1.000000</td>\n",
       "    </tr>\n",
       "  </tbody>\n",
       "</table>\n",
       "</div>"
      ],
      "text/plain": [
       "        temperature  has_children  toCoupon_GEQ5min  toCoupon_GEQ15min  \\\n",
       "count  12684.000000  12684.000000           12684.0       12684.000000   \n",
       "mean      63.301798      0.414144               1.0           0.561495   \n",
       "std       19.154486      0.492593               0.0           0.496224   \n",
       "min       30.000000      0.000000               1.0           0.000000   \n",
       "25%       55.000000      0.000000               1.0           0.000000   \n",
       "50%       80.000000      0.000000               1.0           1.000000   \n",
       "75%       80.000000      1.000000               1.0           1.000000   \n",
       "max       80.000000      1.000000               1.0           1.000000   \n",
       "\n",
       "       toCoupon_GEQ25min  direction_same  direction_opp  Accept(Y/N?)  \n",
       "count       12684.000000    12684.000000   12684.000000  12684.000000  \n",
       "mean            0.119126        0.214759       0.785241      0.568433  \n",
       "std             0.323950        0.410671       0.410671      0.495314  \n",
       "min             0.000000        0.000000       0.000000      0.000000  \n",
       "25%             0.000000        0.000000       1.000000      0.000000  \n",
       "50%             0.000000        0.000000       1.000000      1.000000  \n",
       "75%             0.000000        0.000000       1.000000      1.000000  \n",
       "max             1.000000        1.000000       1.000000      1.000000  "
      ]
     },
     "execution_count": 11,
     "metadata": {},
     "output_type": "execute_result"
    }
   ],
   "source": [
    "data.describe()"
   ]
  },
  {
   "cell_type": "code",
   "execution_count": 12,
   "id": "6e7cb5ff-de39-4863-8720-ceb9290ca9cf",
   "metadata": {},
   "outputs": [
    {
     "data": {
      "text/plain": [
       "destination                 0\n",
       "passanger                   0\n",
       "weather                     0\n",
       "temperature                 0\n",
       "coupon                      0\n",
       "expiration                  0\n",
       "gender                      0\n",
       "age                         0\n",
       "maritalStatus               0\n",
       "has_children                0\n",
       "education                   0\n",
       "occupation                  0\n",
       "income                      0\n",
       "car                     12576\n",
       "Bar                       107\n",
       "CoffeeHouse               217\n",
       "CarryAway                 151\n",
       "RestaurantLessThan20      130\n",
       "Restaurant20To50          189\n",
       "toCoupon_GEQ5min            0\n",
       "toCoupon_GEQ15min           0\n",
       "toCoupon_GEQ25min           0\n",
       "direction_same              0\n",
       "direction_opp               0\n",
       "Accept(Y/N?)                0\n",
       "dtype: int64"
      ]
     },
     "execution_count": 12,
     "metadata": {},
     "output_type": "execute_result"
    }
   ],
   "source": [
    "data.isnull().sum()"
   ]
  },
  {
   "cell_type": "markdown",
   "id": "c7969244-819c-46d6-942e-ab8630143c32",
   "metadata": {},
   "source": [
    "#### We have 12576 null values in car column, 107 null values in Bar column, 217 null values in coffee house, 151 null values in carry away, 130 null values in Restaurant less than20 and 189 null values in restaurant20to50. "
   ]
  },
  {
   "cell_type": "code",
   "execution_count": 14,
   "id": "b8619468-0b7b-400a-8cdd-eebd5959982c",
   "metadata": {},
   "outputs": [
    {
     "data": {
      "text/plain": [
       "291"
      ]
     },
     "execution_count": 14,
     "metadata": {},
     "output_type": "execute_result"
    }
   ],
   "source": [
    "data.duplicated().sum()"
   ]
  },
  {
   "cell_type": "code",
   "execution_count": 15,
   "id": "bdc974c1-594c-4cc4-b8f7-c42b36921c46",
   "metadata": {},
   "outputs": [],
   "source": [
    "data = data.drop_duplicates()"
   ]
  },
  {
   "cell_type": "code",
   "execution_count": 16,
   "id": "3df1ba36-f84f-4b61-8be8-d9f20797ee1d",
   "metadata": {},
   "outputs": [
    {
     "data": {
      "text/plain": [
       "Accept(Y/N?)\n",
       "1    0.565803\n",
       "0    0.434197\n",
       "Name: proportion, dtype: float64"
      ]
     },
     "execution_count": 16,
     "metadata": {},
     "output_type": "execute_result"
    }
   ],
   "source": [
    "data['Accept(Y/N?)'].value_counts(normalize = True)"
   ]
  },
  {
   "cell_type": "markdown",
   "id": "f7f7dbec-41e2-4d09-9d3a-db370999c872",
   "metadata": {},
   "source": [
    "##### We don't have much class imbalance target data."
   ]
  },
  {
   "cell_type": "code",
   "execution_count": 18,
   "id": "4ecf38ba-75d1-4ab6-b836-e1b556ec6484",
   "metadata": {},
   "outputs": [
    {
     "data": {
      "text/plain": [
       "(12393, 25)"
      ]
     },
     "execution_count": 18,
     "metadata": {},
     "output_type": "execute_result"
    }
   ],
   "source": [
    "data.shape"
   ]
  },
  {
   "cell_type": "code",
   "execution_count": 19,
   "id": "bc243004-3c26-440d-b3db-085fcc4fe542",
   "metadata": {},
   "outputs": [
    {
     "name": "stdout",
     "output_type": "stream",
     "text": [
      "Unique value of car: [nan 'Scooter and motorcycle' 'crossover' 'Mazda5' 'do not drive'\n",
      " 'Car that is too old to install Onstar :D']\n",
      "Unique value of Bar: ['never' 'less1' '1~3' 'gt8' nan '4~8']\n",
      "Unique value of CoffeeHouse: ['never' 'less1' '4~8' '1~3' 'gt8' nan]\n",
      "Unique value of CarryAway: [nan '4~8' '1~3' 'gt8' 'less1' 'never']\n",
      "Unique value of RestaurantLessThan20: ['4~8' '1~3' 'less1' 'gt8' nan 'never']\n",
      "Unique value of Restaurant20To50: ['1~3' 'less1' 'never' 'gt8' '4~8' nan]\n"
     ]
    }
   ],
   "source": [
    "# Print Unique values of null values columns.\n",
    "\n",
    "columns_with_null_values = ['car','Bar','CoffeeHouse','CarryAway','RestaurantLessThan20','Restaurant20To50']\n",
    "\n",
    "for col in columns_with_null_values:\n",
    "    print(f'Unique value of {col}:',data[col].unique())"
   ]
  },
  {
   "cell_type": "code",
   "execution_count": 20,
   "id": "26194a16-1920-43b7-bef6-4e92137fc19e",
   "metadata": {},
   "outputs": [],
   "source": [
    "# Fill null values with mode\n",
    "\n",
    "for col in columns_with_null_values:\n",
    "    data[col].fillna(data[col].mode()[0], inplace = True)"
   ]
  },
  {
   "cell_type": "code",
   "execution_count": 21,
   "id": "9de22498-8b54-4982-91d9-3796edadb55f",
   "metadata": {},
   "outputs": [
    {
     "data": {
      "text/plain": [
       "destination             0\n",
       "passanger               0\n",
       "weather                 0\n",
       "temperature             0\n",
       "coupon                  0\n",
       "expiration              0\n",
       "gender                  0\n",
       "age                     0\n",
       "maritalStatus           0\n",
       "has_children            0\n",
       "education               0\n",
       "occupation              0\n",
       "income                  0\n",
       "car                     0\n",
       "Bar                     0\n",
       "CoffeeHouse             0\n",
       "CarryAway               0\n",
       "RestaurantLessThan20    0\n",
       "Restaurant20To50        0\n",
       "toCoupon_GEQ5min        0\n",
       "toCoupon_GEQ15min       0\n",
       "toCoupon_GEQ25min       0\n",
       "direction_same          0\n",
       "direction_opp           0\n",
       "Accept(Y/N?)            0\n",
       "dtype: int64"
      ]
     },
     "execution_count": 21,
     "metadata": {},
     "output_type": "execute_result"
    }
   ],
   "source": [
    "data.isnull().sum()"
   ]
  },
  {
   "cell_type": "code",
   "execution_count": 22,
   "id": "653018c7-1144-4e74-98ce-f94da68f117e",
   "metadata": {},
   "outputs": [
    {
     "data": {
      "text/plain": [
       "0"
      ]
     },
     "execution_count": 22,
     "metadata": {},
     "output_type": "execute_result"
    }
   ],
   "source": [
    "# Checking outliers for temperature column with the IQR Method:\n",
    "\n",
    "# IQR Method:\n",
    "\n",
    "Q1 = data['temperature'].quantile(0.25)\n",
    "Q3 = data['temperature'].quantile(0.75)\n",
    "\n",
    "IQR = Q3 - Q1\n",
    "\n",
    "lower_bound = Q1 - 1.5*IQR\n",
    "upper_bound = Q3 + 1.5*IQR\n",
    "\n",
    "outliers_iqr = (data['temperature'] < lower_bound) | (data['temperature'] > upper_bound)\n",
    "outliers_iqr.sum()"
   ]
  },
  {
   "cell_type": "code",
   "execution_count": 23,
   "id": "d13aed93-79ac-4f9f-ab6c-b2bbe5aa69dd",
   "metadata": {},
   "outputs": [
    {
     "data": {
      "image/png": "[encoded data removed]",
      "text/plain": [
       "<Figure size 640x480 with 1 Axes>"
      ]
     },
     "metadata": {},
     "output_type": "display_data"
    },
    {
     "data": {
      "image/png": "[encoded data removed]",
      "text/plain": [
       "<Figure size 640x480 with 1 Axes>"
      ]
     },
     "metadata": {},
     "output_type": "display_data"
    },
    {
     "data": {
      "image/png": "[encoded data removed]",
      "text/plain": [
       "<Figure size 640x480 with 1 Axes>"
      ]
     },
     "metadata": {},
     "output_type": "display_data"
    },
    {
     "data": {
      "image/png": "[encoded data removed]",
      "text/plain": [
       "<Figure size 640x480 with 1 Axes>"
      ]
     },
     "metadata": {},
     "output_type": "display_data"
    },
    {
     "data": {
      "image/png": "[encoded data removed]",
      "text/plain": [
       "<Figure size 640x480 with 1 Axes>"
      ]
     },
     "metadata": {},
     "output_type": "display_data"
    }
   ],
   "source": [
    "for col in ['has_children', 'toCoupon_GEQ5min', 'direction_same', 'direction_opp', 'Accept(Y/N?)']:\n",
    "    sns.countplot(x=data[col])\n",
    "    plt.title(f'Count Plot of {col}')\n",
    "    plt.show()\n"
   ]
  },
  {
   "cell_type": "code",
   "execution_count": 24,
   "id": "0011f465-1c7a-4a1e-9f8b-7623889bfcc2",
   "metadata": {},
   "outputs": [
    {
     "data": {
      "text/html": [
       "<div>\n",
       "<style scoped>\n",
       "    .dataframe tbody tr th:only-of-type {\n",
       "        vertical-align: middle;\n",
       "    }\n",
       "\n",
       "    .dataframe tbody tr th {\n",
       "        vertical-align: top;\n",
       "    }\n",
       "\n",
       "    .dataframe thead th {\n",
       "        text-align: right;\n",
       "    }\n",
       "</style>\n",
       "<table border=\"1\" class=\"dataframe\">\n",
       "  <thead>\n",
       "    <tr style=\"text-align: right;\">\n",
       "      <th></th>\n",
       "      <th>temperature</th>\n",
       "      <th>has_children</th>\n",
       "      <th>toCoupon_GEQ5min</th>\n",
       "      <th>toCoupon_GEQ15min</th>\n",
       "      <th>toCoupon_GEQ25min</th>\n",
       "      <th>direction_same</th>\n",
       "      <th>direction_opp</th>\n",
       "      <th>Accept(Y/N?)</th>\n",
       "    </tr>\n",
       "  </thead>\n",
       "  <tbody>\n",
       "    <tr>\n",
       "      <th>temperature</th>\n",
       "      <td>1.000000</td>\n",
       "      <td>-0.016963</td>\n",
       "      <td>NaN</td>\n",
       "      <td>-0.141124</td>\n",
       "      <td>-0.230067</td>\n",
       "      <td>0.088885</td>\n",
       "      <td>-0.088885</td>\n",
       "      <td>0.064074</td>\n",
       "    </tr>\n",
       "    <tr>\n",
       "      <th>has_children</th>\n",
       "      <td>-0.016963</td>\n",
       "      <td>1.000000</td>\n",
       "      <td>NaN</td>\n",
       "      <td>0.078686</td>\n",
       "      <td>-0.011651</td>\n",
       "      <td>-0.032276</td>\n",
       "      <td>0.032276</td>\n",
       "      <td>-0.044889</td>\n",
       "    </tr>\n",
       "    <tr>\n",
       "      <th>toCoupon_GEQ5min</th>\n",
       "      <td>NaN</td>\n",
       "      <td>NaN</td>\n",
       "      <td>NaN</td>\n",
       "      <td>NaN</td>\n",
       "      <td>NaN</td>\n",
       "      <td>NaN</td>\n",
       "      <td>NaN</td>\n",
       "      <td>NaN</td>\n",
       "    </tr>\n",
       "    <tr>\n",
       "      <th>toCoupon_GEQ15min</th>\n",
       "      <td>-0.141124</td>\n",
       "      <td>0.078686</td>\n",
       "      <td>NaN</td>\n",
       "      <td>1.000000</td>\n",
       "      <td>0.321919</td>\n",
       "      <td>-0.297284</td>\n",
       "      <td>0.297284</td>\n",
       "      <td>-0.086050</td>\n",
       "    </tr>\n",
       "    <tr>\n",
       "      <th>toCoupon_GEQ25min</th>\n",
       "      <td>-0.230067</td>\n",
       "      <td>-0.011651</td>\n",
       "      <td>NaN</td>\n",
       "      <td>0.321919</td>\n",
       "      <td>1.000000</td>\n",
       "      <td>-0.190759</td>\n",
       "      <td>0.190759</td>\n",
       "      <td>-0.107855</td>\n",
       "    </tr>\n",
       "    <tr>\n",
       "      <th>direction_same</th>\n",
       "      <td>0.088885</td>\n",
       "      <td>-0.032276</td>\n",
       "      <td>NaN</td>\n",
       "      <td>-0.297284</td>\n",
       "      <td>-0.190759</td>\n",
       "      <td>1.000000</td>\n",
       "      <td>-1.000000</td>\n",
       "      <td>0.016356</td>\n",
       "    </tr>\n",
       "    <tr>\n",
       "      <th>direction_opp</th>\n",
       "      <td>-0.088885</td>\n",
       "      <td>0.032276</td>\n",
       "      <td>NaN</td>\n",
       "      <td>0.297284</td>\n",
       "      <td>0.190759</td>\n",
       "      <td>-1.000000</td>\n",
       "      <td>1.000000</td>\n",
       "      <td>-0.016356</td>\n",
       "    </tr>\n",
       "    <tr>\n",
       "      <th>Accept(Y/N?)</th>\n",
       "      <td>0.064074</td>\n",
       "      <td>-0.044889</td>\n",
       "      <td>NaN</td>\n",
       "      <td>-0.086050</td>\n",
       "      <td>-0.107855</td>\n",
       "      <td>0.016356</td>\n",
       "      <td>-0.016356</td>\n",
       "      <td>1.000000</td>\n",
       "    </tr>\n",
       "  </tbody>\n",
       "</table>\n",
       "</div>"
      ],
      "text/plain": [
       "                   temperature  has_children  toCoupon_GEQ5min  \\\n",
       "temperature           1.000000     -0.016963               NaN   \n",
       "has_children         -0.016963      1.000000               NaN   \n",
       "toCoupon_GEQ5min           NaN           NaN               NaN   \n",
       "toCoupon_GEQ15min    -0.141124      0.078686               NaN   \n",
       "toCoupon_GEQ25min    -0.230067     -0.011651               NaN   \n",
       "direction_same        0.088885     -0.032276               NaN   \n",
       "direction_opp        -0.088885      0.032276               NaN   \n",
       "Accept(Y/N?)          0.064074     -0.044889               NaN   \n",
       "\n",
       "                   toCoupon_GEQ15min  toCoupon_GEQ25min  direction_same  \\\n",
       "temperature                -0.141124          -0.230067        0.088885   \n",
       "has_children                0.078686          -0.011651       -0.032276   \n",
       "toCoupon_GEQ5min                 NaN                NaN             NaN   \n",
       "toCoupon_GEQ15min           1.000000           0.321919       -0.297284   \n",
       "toCoupon_GEQ25min           0.321919           1.000000       -0.190759   \n",
       "direction_same             -0.297284          -0.190759        1.000000   \n",
       "direction_opp               0.297284           0.190759       -1.000000   \n",
       "Accept(Y/N?)               -0.086050          -0.107855        0.016356   \n",
       "\n",
       "                   direction_opp  Accept(Y/N?)  \n",
       "temperature            -0.088885      0.064074  \n",
       "has_children            0.032276     -0.044889  \n",
       "toCoupon_GEQ5min             NaN           NaN  \n",
       "toCoupon_GEQ15min       0.297284     -0.086050  \n",
       "toCoupon_GEQ25min       0.190759     -0.107855  \n",
       "direction_same         -1.000000      0.016356  \n",
       "direction_opp           1.000000     -0.016356  \n",
       "Accept(Y/N?)           -0.016356      1.000000  "
      ]
     },
     "execution_count": 24,
     "metadata": {},
     "output_type": "execute_result"
    }
   ],
   "source": [
    "# Calculated the Pearson correlation coefficient for numerical features with the target variable to assess their relationship.\n",
    "\n",
    "numerical_col = data.select_dtypes(include = ['float64', 'int64']).columns\n",
    "numerical_corr = data[numerical_col].corr(method = 'pearson')\n",
    "numerical_corr"
   ]
  },
  {
   "cell_type": "code",
   "execution_count": 25,
   "id": "9d71801a-2922-48ce-b2b0-6a5a00df4737",
   "metadata": {},
   "outputs": [
    {
     "data": {
      "image/png": "[encoded data removed]",
      "text/plain": [
       "<Figure size 500x500 with 2 Axes>"
      ]
     },
     "metadata": {},
     "output_type": "display_data"
    }
   ],
   "source": [
    "plt.figure(figsize = (5,5))\n",
    "sns.heatmap(numerical_corr,annot = True, cmap = 'coolwarm',cbar = True, fmt = '.2f')\n",
    "plt.show()"
   ]
  },
  {
   "cell_type": "markdown",
   "id": "413891f6-7533-4d6e-8dfa-3f878723cd90",
   "metadata": {},
   "source": [
    "##### Strong Negative Correlation (-1.00) Between direction_same and direction_opp\n",
    "\n",
    "##### These features are perfectly negatively correlated, meaning they are opposites.\n",
    "##### so we only need one of them in our model (drop one to avoid redundancy)."
   ]
  },
  {
   "cell_type": "code",
   "execution_count": 27,
   "id": "9ef44762-e1ec-4364-9e70-3a2c5fdea30e",
   "metadata": {},
   "outputs": [],
   "source": [
    "data.drop(columns=['direction_opp'], inplace=True)"
   ]
  },
  {
   "cell_type": "code",
   "execution_count": 28,
   "id": "80776193-a90b-41f0-a166-e939ab9d7c5c",
   "metadata": {},
   "outputs": [
    {
     "name": "stdout",
     "output_type": "stream",
     "text": [
      "Index(['destination', 'passanger', 'weather', 'temperature', 'coupon',\n",
      "       'expiration', 'gender', 'age', 'maritalStatus', 'has_children',\n",
      "       'education', 'occupation', 'income', 'car', 'Bar', 'CoffeeHouse',\n",
      "       'CarryAway', 'RestaurantLessThan20', 'Restaurant20To50',\n",
      "       'toCoupon_GEQ5min', 'toCoupon_GEQ15min', 'toCoupon_GEQ25min',\n",
      "       'direction_same', 'Accept(Y/N?)'],\n",
      "      dtype='object')\n"
     ]
    }
   ],
   "source": [
    "print(data.columns)"
   ]
  },
  {
   "cell_type": "code",
   "execution_count": 29,
   "id": "e70d3b1a-e03b-4f42-a2ba-9b48c0629944",
   "metadata": {},
   "outputs": [
    {
     "name": "stdout",
     "output_type": "stream",
     "text": [
      "Unique value of destination:['No Urgent Place' 'Home' 'Work']\n",
      "Unique value of passanger:['Alone' 'Friend(s)' 'Kid(s)' 'Partner']\n",
      "Unique value of weather:['Sunny' 'Rainy' 'Snowy']\n",
      "Unique value of coupon:['Restaurant(<20)' 'Coffee House' 'Carry out & Take away' 'Bar'\n",
      " 'Restaurant(20-50)']\n",
      "Unique value of expiration:['1d' '2h']\n",
      "Unique value of gender:['Female' 'Male']\n",
      "Unique value of age:['21' '46' '26' '31' '41' '50plus' '36' 'below21']\n",
      "Unique value of maritalStatus:['Unmarried partner' 'Single' 'Married partner' 'Divorced' 'Widowed']\n",
      "Unique value of education:['Some college - no degree' 'Bachelors degree' 'Associates degree'\n",
      " 'High School Graduate' 'Graduate degree (Masters or Doctorate)'\n",
      " 'Some High School']\n",
      "Unique value of occupation:['Unemployed' 'Architecture & Engineering' 'Student'\n",
      " 'Education&Training&Library' 'Healthcare Support'\n",
      " 'Healthcare Practitioners & Technical' 'Sales & Related' 'Management'\n",
      " 'Arts Design Entertainment Sports & Media' 'Computer & Mathematical'\n",
      " 'Life Physical Social Science' 'Personal Care & Service'\n",
      " 'Community & Social Services' 'Office & Administrative Support'\n",
      " 'Construction & Extraction' 'Legal' 'Retired'\n",
      " 'Installation Maintenance & Repair' 'Transportation & Material Moving'\n",
      " 'Business & Financial' 'Protective Service'\n",
      " 'Food Preparation & Serving Related' 'Production Occupations'\n",
      " 'Building & Grounds Cleaning & Maintenance' 'Farming Fishing & Forestry']\n",
      "Unique value of income:['$37500 - $49999' '$62500 - $74999' '$12500 - $24999' '$75000 - $87499'\n",
      " '$50000 - $62499' '$25000 - $37499' '$100000 or More' '$87500 - $99999'\n",
      " 'Less than $12500']\n",
      "Unique value of car:['Mazda5' 'Scooter and motorcycle' 'crossover' 'do not drive'\n",
      " 'Car that is too old to install Onstar :D']\n",
      "Unique value of Bar:['never' 'less1' '1~3' 'gt8' '4~8']\n",
      "Unique value of CoffeeHouse:['never' 'less1' '4~8' '1~3' 'gt8']\n",
      "Unique value of CarryAway:['1~3' '4~8' 'gt8' 'less1' 'never']\n",
      "Unique value of RestaurantLessThan20:['4~8' '1~3' 'less1' 'gt8' 'never']\n",
      "Unique value of Restaurant20To50:['1~3' 'less1' 'never' 'gt8' '4~8']\n"
     ]
    }
   ],
   "source": [
    "cat_col = data.select_dtypes(include=['object']).columns\n",
    "\n",
    "for col in cat_col:\n",
    "    print(f'Unique value of {col}:{data[col].unique()}')"
   ]
  },
  {
   "cell_type": "code",
   "execution_count": 30,
   "id": "e3e4c900-d762-487f-b3be-eeb2cf7ed388",
   "metadata": {},
   "outputs": [
    {
     "name": "stdout",
     "output_type": "stream",
     "text": [
      "   temperature  age  has_children  education  income  Bar  CoffeeHouse  \\\n",
      "0           55  1.0             1        2.0     3.0  0.0          0.0   \n",
      "1           80  1.0             1        2.0     3.0  0.0          0.0   \n",
      "2           80  1.0             1        2.0     3.0  0.0          0.0   \n",
      "3           80  1.0             1        2.0     3.0  0.0          0.0   \n",
      "4           80  1.0             1        2.0     3.0  0.0          0.0   \n",
      "\n",
      "   CarryAway  RestaurantLessThan20  Restaurant20To50  ...  \\\n",
      "0        2.0                   3.0               2.0  ...   \n",
      "1        2.0                   3.0               2.0  ...   \n",
      "2        2.0                   3.0               2.0  ...   \n",
      "3        2.0                   3.0               2.0  ...   \n",
      "4        2.0                   3.0               2.0  ...   \n",
      "\n",
      "   occupation_Protective Service  occupation_Retired  \\\n",
      "0                          False               False   \n",
      "1                          False               False   \n",
      "2                          False               False   \n",
      "3                          False               False   \n",
      "4                          False               False   \n",
      "\n",
      "   occupation_Sales & Related  occupation_Student  \\\n",
      "0                       False               False   \n",
      "1                       False               False   \n",
      "2                       False               False   \n",
      "3                       False               False   \n",
      "4                       False               False   \n",
      "\n",
      "   occupation_Transportation & Material Moving  occupation_Unemployed  \\\n",
      "0                                        False                   True   \n",
      "1                                        False                   True   \n",
      "2                                        False                   True   \n",
      "3                                        False                   True   \n",
      "4                                        False                   True   \n",
      "\n",
      "   car_Mazda5  car_Scooter and motorcycle  car_crossover  car_do not drive  \n",
      "0        True                       False          False             False  \n",
      "1        True                       False          False             False  \n",
      "2        True                       False          False             False  \n",
      "3        True                       False          False             False  \n",
      "4        True                       False          False             False  \n",
      "\n",
      "[5 rows x 60 columns]\n"
     ]
    }
   ],
   "source": [
    "from sklearn.preprocessing import OneHotEncoder, OrdinalEncoder\n",
    "import pandas as pd\n",
    "\n",
    "# Define ordinal categories\n",
    "age_order = ['below21', '21', '26', '31', '36', '41', '46', '50plus']\n",
    "education_order = ['Some High School', 'High School Graduate', 'Some college - no degree', \n",
    "                   'Associates degree', 'Bachelors degree', 'Graduate degree (Masters or Doctorate)']\n",
    "income_order = ['Less than $12500', '$12500 - $24999', '$25000 - $37499', '$37500 - $49999', \n",
    "                '$50000 - $62499', '$62500 - $74999', '$75000 - $87499', '$87500 - $99999', '$100000 or More']\n",
    "frequency_order = ['never', 'less1', '1~3', '4~8', 'gt8']\n",
    "\n",
    "# Apply ordinal encoding\n",
    "ordinal_encoder = OrdinalEncoder(categories=[age_order, education_order, income_order, \n",
    "                                             frequency_order, frequency_order, frequency_order, \n",
    "                                             frequency_order, frequency_order])\n",
    "ordinal_cols = ['age', 'education', 'income', 'Bar', 'CoffeeHouse', 'CarryAway', \n",
    "                'RestaurantLessThan20', 'Restaurant20To50']\n",
    "\n",
    "data[ordinal_cols] = ordinal_encoder.fit_transform(data[ordinal_cols])\n",
    "\n",
    "# Apply one-hot encoding\n",
    "nominal_cols = ['destination', 'passanger', 'weather', 'coupon', 'expiration', \n",
    "                'gender', 'maritalStatus', 'occupation', 'car']\n",
    "\n",
    "data = pd.get_dummies(data, columns=nominal_cols, drop_first=True)\n",
    "\n",
    "# Check encoded data\n",
    "print(data.head())\n"
   ]
  },
  {
   "cell_type": "markdown",
   "id": "b579f9be-a954-483a-b6ce-324d761aa621",
   "metadata": {},
   "source": [
    "#### Building Model:"
   ]
  },
  {
   "cell_type": "code",
   "execution_count": 32,
   "id": "7df41f8d-949c-44a3-9663-741b99330e09",
   "metadata": {},
   "outputs": [],
   "source": [
    "from sklearn.model_selection import train_test_split\n",
    "from sklearn.preprocessing import StandardScaler\n",
    "from sklearn.linear_model import LogisticRegression\n",
    "from sklearn.metrics import confusion_matrix, classification_report,f1_score"
   ]
  },
  {
   "cell_type": "code",
   "execution_count": 33,
   "id": "4e339c2a-516c-419f-add7-66928908e3d8",
   "metadata": {},
   "outputs": [],
   "source": [
    "X = data.drop(columns = ['Accept(Y/N?)'])\n",
    "y = data['Accept(Y/N?)']"
   ]
  },
  {
   "cell_type": "code",
   "execution_count": 34,
   "id": "07b70389-4e9a-408e-b76a-496412fdad6d",
   "metadata": {},
   "outputs": [
    {
     "name": "stdout",
     "output_type": "stream",
     "text": [
      "(8675, 59)\n",
      "(3718, 59)\n",
      "(8675,)\n",
      "(3718,)\n"
     ]
    }
   ],
   "source": [
    "X_train, X_test, y_train, y_test = train_test_split(X,y,test_size = 0.3, random_state = 42)\n",
    "\n",
    "print(X_train.shape)\n",
    "print(X_test.shape)\n",
    "print(y_train.shape)\n",
    "print(y_test.shape)"
   ]
  },
  {
   "cell_type": "markdown",
   "id": "66514413-1a5e-48b5-96cc-c89f1a6ad65c",
   "metadata": {},
   "source": [
    "#### RandomForest Classifier:"
   ]
  },
  {
   "cell_type": "code",
   "execution_count": 36,
   "id": "2c8a8b1f-5724-4acb-94cf-a228458f8e35",
   "metadata": {},
   "outputs": [],
   "source": [
    "from sklearn.ensemble import RandomForestClassifier\n",
    "from sklearn.metrics import confusion_matrix"
   ]
  },
  {
   "cell_type": "code",
   "execution_count": 37,
   "id": "4ba5af43-8dd5-44ec-9106-75784947995f",
   "metadata": {},
   "outputs": [
    {
     "data": {
      "text/html": [
       "<style>#sk-container-id-1 {\n",
       "  /* Definition of color scheme common for light and dark mode */\n",
       "  --sklearn-color-text: black;\n",
       "  --sklearn-color-line: gray;\n",
       "  /* Definition of color scheme for unfitted estimators */\n",
       "  --sklearn-color-unfitted-level-0: #fff5e6;\n",
       "  --sklearn-color-unfitted-level-1: #f6e4d2;\n",
       "  --sklearn-color-unfitted-level-2: #ffe0b3;\n",
       "  --sklearn-color-unfitted-level-3: chocolate;\n",
       "  /* Definition of color scheme for fitted estimators */\n",
       "  --sklearn-color-fitted-level-0: #f0f8ff;\n",
       "  --sklearn-color-fitted-level-1: #d4ebff;\n",
       "  --sklearn-color-fitted-level-2: #b3dbfd;\n",
       "  --sklearn-color-fitted-level-3: cornflowerblue;\n",
       "\n",
       "  /* Specific color for light theme */\n",
       "  --sklearn-color-text-on-default-background: var(--sg-text-color, var(--theme-code-foreground, var(--jp-content-font-color1, black)));\n",
       "  --sklearn-color-background: var(--sg-background-color, var(--theme-background, var(--jp-layout-color0, white)));\n",
       "  --sklearn-color-border-box: var(--sg-text-color, var(--theme-code-foreground, var(--jp-content-font-color1, black)));\n",
       "  --sklearn-color-icon: #696969;\n",
       "\n",
       "  @media (prefers-color-scheme: dark) {\n",
       "    /* Redefinition of color scheme for dark theme */\n",
       "    --sklearn-color-text-on-default-background: var(--sg-text-color, var(--theme-code-foreground, var(--jp-content-font-color1, white)));\n",
       "    --sklearn-color-background: var(--sg-background-color, var(--theme-background, var(--jp-layout-color0, #111)));\n",
       "    --sklearn-color-border-box: var(--sg-text-color, var(--theme-code-foreground, var(--jp-content-font-color1, white)));\n",
       "    --sklearn-color-icon: #878787;\n",
       "  }\n",
       "}\n",
       "\n",
       "#sk-container-id-1 {\n",
       "  color: var(--sklearn-color-text);\n",
       "}\n",
       "\n",
       "#sk-container-id-1 pre {\n",
       "  padding: 0;\n",
       "}\n",
       "\n",
       "#sk-container-id-1 input.sk-hidden--visually {\n",
       "  border: 0;\n",
       "  clip: rect(1px 1px 1px 1px);\n",
       "  clip: rect(1px, 1px, 1px, 1px);\n",
       "  height: 1px;\n",
       "  margin: -1px;\n",
       "  overflow: hidden;\n",
       "  padding: 0;\n",
       "  position: absolute;\n",
       "  width: 1px;\n",
       "}\n",
       "\n",
       "#sk-container-id-1 div.sk-dashed-wrapped {\n",
       "  border: 1px dashed var(--sklearn-color-line);\n",
       "  margin: 0 0.4em 0.5em 0.4em;\n",
       "  box-sizing: border-box;\n",
       "  padding-bottom: 0.4em;\n",
       "  background-color: var(--sklearn-color-background);\n",
       "}\n",
       "\n",
       "#sk-container-id-1 div.sk-container {\n",
       "  /* jupyter's `normalize.less` sets `[hidden] { display: none; }`\n",
       "     but bootstrap.min.css set `[hidden] { display: none !important; }`\n",
       "     so we also need the `!important` here to be able to override the\n",
       "     default hidden behavior on the sphinx rendered scikit-learn.org.\n",
       "     See: https://github.com/scikit-learn/scikit-learn/issues/21755 */\n",
       "  display: inline-block !important;\n",
       "  position: relative;\n",
       "}\n",
       "\n",
       "#sk-container-id-1 div.sk-text-repr-fallback {\n",
       "  display: none;\n",
       "}\n",
       "\n",
       "div.sk-parallel-item,\n",
       "div.sk-serial,\n",
       "div.sk-item {\n",
       "  /* draw centered vertical line to link estimators */\n",
       "  background-image: linear-gradient(var(--sklearn-color-text-on-default-background), var(--sklearn-color-text-on-default-background));\n",
       "  background-size: 2px 100%;\n",
       "  background-repeat: no-repeat;\n",
       "  background-position: center center;\n",
       "}\n",
       "\n",
       "/* Parallel-specific style estimator block */\n",
       "\n",
       "#sk-container-id-1 div.sk-parallel-item::after {\n",
       "  content: \"\";\n",
       "  width: 100%;\n",
       "  border-bottom: 2px solid var(--sklearn-color-text-on-default-background);\n",
       "  flex-grow: 1;\n",
       "}\n",
       "\n",
       "#sk-container-id-1 div.sk-parallel {\n",
       "  display: flex;\n",
       "  align-items: stretch;\n",
       "  justify-content: center;\n",
       "  background-color: var(--sklearn-color-background);\n",
       "  position: relative;\n",
       "}\n",
       "\n",
       "#sk-container-id-1 div.sk-parallel-item {\n",
       "  display: flex;\n",
       "  flex-direction: column;\n",
       "}\n",
       "\n",
       "#sk-container-id-1 div.sk-parallel-item:first-child::after {\n",
       "  align-self: flex-end;\n",
       "  width: 50%;\n",
       "}\n",
       "\n",
       "#sk-container-id-1 div.sk-parallel-item:last-child::after {\n",
       "  align-self: flex-start;\n",
       "  width: 50%;\n",
       "}\n",
       "\n",
       "#sk-container-id-1 div.sk-parallel-item:only-child::after {\n",
       "  width: 0;\n",
       "}\n",
       "\n",
       "/* Serial-specific style estimator block */\n",
       "\n",
       "#sk-container-id-1 div.sk-serial {\n",
       "  display: flex;\n",
       "  flex-direction: column;\n",
       "  align-items: center;\n",
       "  background-color: var(--sklearn-color-background);\n",
       "  padding-right: 1em;\n",
       "  padding-left: 1em;\n",
       "}\n",
       "\n",
       "\n",
       "/* Toggleable style: style used for estimator/Pipeline/ColumnTransformer box that is\n",
       "clickable and can be expanded/collapsed.\n",
       "- Pipeline and ColumnTransformer use this feature and define the default style\n",
       "- Estimators will overwrite some part of the style using the `sk-estimator` class\n",
       "*/\n",
       "\n",
       "/* Pipeline and ColumnTransformer style (default) */\n",
       "\n",
       "#sk-container-id-1 div.sk-toggleable {\n",
       "  /* Default theme specific background. It is overwritten whether we have a\n",
       "  specific estimator or a Pipeline/ColumnTransformer */\n",
       "  background-color: var(--sklearn-color-background);\n",
       "}\n",
       "\n",
       "/* Toggleable label */\n",
       "#sk-container-id-1 label.sk-toggleable__label {\n",
       "  cursor: pointer;\n",
       "  display: block;\n",
       "  width: 100%;\n",
       "  margin-bottom: 0;\n",
       "  padding: 0.5em;\n",
       "  box-sizing: border-box;\n",
       "  text-align: center;\n",
       "}\n",
       "\n",
       "#sk-container-id-1 label.sk-toggleable__label-arrow:before {\n",
       "  /* Arrow on the left of the label */\n",
       "  content: \"▸\";\n",
       "  float: left;\n",
       "  margin-right: 0.25em;\n",
       "  color: var(--sklearn-color-icon);\n",
       "}\n",
       "\n",
       "#sk-container-id-1 label.sk-toggleable__label-arrow:hover:before {\n",
       "  color: var(--sklearn-color-text);\n",
       "}\n",
       "\n",
       "/* Toggleable content - dropdown */\n",
       "\n",
       "#sk-container-id-1 div.sk-toggleable__content {\n",
       "  max-height: 0;\n",
       "  max-width: 0;\n",
       "  overflow: hidden;\n",
       "  text-align: left;\n",
       "  /* unfitted */\n",
       "  background-color: var(--sklearn-color-unfitted-level-0);\n",
       "}\n",
       "\n",
       "#sk-container-id-1 div.sk-toggleable__content.fitted {\n",
       "  /* fitted */\n",
       "  background-color: var(--sklearn-color-fitted-level-0);\n",
       "}\n",
       "\n",
       "#sk-container-id-1 div.sk-toggleable__content pre {\n",
       "  margin: 0.2em;\n",
       "  border-radius: 0.25em;\n",
       "  color: var(--sklearn-color-text);\n",
       "  /* unfitted */\n",
       "  background-color: var(--sklearn-color-unfitted-level-0);\n",
       "}\n",
       "\n",
       "#sk-container-id-1 div.sk-toggleable__content.fitted pre {\n",
       "  /* unfitted */\n",
       "  background-color: var(--sklearn-color-fitted-level-0);\n",
       "}\n",
       "\n",
       "#sk-container-id-1 input.sk-toggleable__control:checked~div.sk-toggleable__content {\n",
       "  /* Expand drop-down */\n",
       "  max-height: 200px;\n",
       "  max-width: 100%;\n",
       "  overflow: auto;\n",
       "}\n",
       "\n",
       "#sk-container-id-1 input.sk-toggleable__control:checked~label.sk-toggleable__label-arrow:before {\n",
       "  content: \"▾\";\n",
       "}\n",
       "\n",
       "/* Pipeline/ColumnTransformer-specific style */\n",
       "\n",
       "#sk-container-id-1 div.sk-label input.sk-toggleable__control:checked~label.sk-toggleable__label {\n",
       "  color: var(--sklearn-color-text);\n",
       "  background-color: var(--sklearn-color-unfitted-level-2);\n",
       "}\n",
       "\n",
       "#sk-container-id-1 div.sk-label.fitted input.sk-toggleable__control:checked~label.sk-toggleable__label {\n",
       "  background-color: var(--sklearn-color-fitted-level-2);\n",
       "}\n",
       "\n",
       "/* Estimator-specific style */\n",
       "\n",
       "/* Colorize estimator box */\n",
       "#sk-container-id-1 div.sk-estimator input.sk-toggleable__control:checked~label.sk-toggleable__label {\n",
       "  /* unfitted */\n",
       "  background-color: var(--sklearn-color-unfitted-level-2);\n",
       "}\n",
       "\n",
       "#sk-container-id-1 div.sk-estimator.fitted input.sk-toggleable__control:checked~label.sk-toggleable__label {\n",
       "  /* fitted */\n",
       "  background-color: var(--sklearn-color-fitted-level-2);\n",
       "}\n",
       "\n",
       "#sk-container-id-1 div.sk-label label.sk-toggleable__label,\n",
       "#sk-container-id-1 div.sk-label label {\n",
       "  /* The background is the default theme color */\n",
       "  color: var(--sklearn-color-text-on-default-background);\n",
       "}\n",
       "\n",
       "/* On hover, darken the color of the background */\n",
       "#sk-container-id-1 div.sk-label:hover label.sk-toggleable__label {\n",
       "  color: var(--sklearn-color-text);\n",
       "  background-color: var(--sklearn-color-unfitted-level-2);\n",
       "}\n",
       "\n",
       "/* Label box, darken color on hover, fitted */\n",
       "#sk-container-id-1 div.sk-label.fitted:hover label.sk-toggleable__label.fitted {\n",
       "  color: var(--sklearn-color-text);\n",
       "  background-color: var(--sklearn-color-fitted-level-2);\n",
       "}\n",
       "\n",
       "/* Estimator label */\n",
       "\n",
       "#sk-container-id-1 div.sk-label label {\n",
       "  font-family: monospace;\n",
       "  font-weight: bold;\n",
       "  display: inline-block;\n",
       "  line-height: 1.2em;\n",
       "}\n",
       "\n",
       "#sk-container-id-1 div.sk-label-container {\n",
       "  text-align: center;\n",
       "}\n",
       "\n",
       "/* Estimator-specific */\n",
       "#sk-container-id-1 div.sk-estimator {\n",
       "  font-family: monospace;\n",
       "  border: 1px dotted var(--sklearn-color-border-box);\n",
       "  border-radius: 0.25em;\n",
       "  box-sizing: border-box;\n",
       "  margin-bottom: 0.5em;\n",
       "  /* unfitted */\n",
       "  background-color: var(--sklearn-color-unfitted-level-0);\n",
       "}\n",
       "\n",
       "#sk-container-id-1 div.sk-estimator.fitted {\n",
       "  /* fitted */\n",
       "  background-color: var(--sklearn-color-fitted-level-0);\n",
       "}\n",
       "\n",
       "/* on hover */\n",
       "#sk-container-id-1 div.sk-estimator:hover {\n",
       "  /* unfitted */\n",
       "  background-color: var(--sklearn-color-unfitted-level-2);\n",
       "}\n",
       "\n",
       "#sk-container-id-1 div.sk-estimator.fitted:hover {\n",
       "  /* fitted */\n",
       "  background-color: var(--sklearn-color-fitted-level-2);\n",
       "}\n",
       "\n",
       "/* Specification for estimator info (e.g. \"i\" and \"?\") */\n",
       "\n",
       "/* Common style for \"i\" and \"?\" */\n",
       "\n",
       ".sk-estimator-doc-link,\n",
       "a:link.sk-estimator-doc-link,\n",
       "a:visited.sk-estimator-doc-link {\n",
       "  float: right;\n",
       "  font-size: smaller;\n",
       "  line-height: 1em;\n",
       "  font-family: monospace;\n",
       "  background-color: var(--sklearn-color-background);\n",
       "  border-radius: 1em;\n",
       "  height: 1em;\n",
       "  width: 1em;\n",
       "  text-decoration: none !important;\n",
       "  margin-left: 1ex;\n",
       "  /* unfitted */\n",
       "  border: var(--sklearn-color-unfitted-level-1) 1pt solid;\n",
       "  color: var(--sklearn-color-unfitted-level-1);\n",
       "}\n",
       "\n",
       ".sk-estimator-doc-link.fitted,\n",
       "a:link.sk-estimator-doc-link.fitted,\n",
       "a:visited.sk-estimator-doc-link.fitted {\n",
       "  /* fitted */\n",
       "  border: var(--sklearn-color-fitted-level-1) 1pt solid;\n",
       "  color: var(--sklearn-color-fitted-level-1);\n",
       "}\n",
       "\n",
       "/* On hover */\n",
       "div.sk-estimator:hover .sk-estimator-doc-link:hover,\n",
       ".sk-estimator-doc-link:hover,\n",
       "div.sk-label-container:hover .sk-estimator-doc-link:hover,\n",
       ".sk-estimator-doc-link:hover {\n",
       "  /* unfitted */\n",
       "  background-color: var(--sklearn-color-unfitted-level-3);\n",
       "  color: var(--sklearn-color-background);\n",
       "  text-decoration: none;\n",
       "}\n",
       "\n",
       "div.sk-estimator.fitted:hover .sk-estimator-doc-link.fitted:hover,\n",
       ".sk-estimator-doc-link.fitted:hover,\n",
       "div.sk-label-container:hover .sk-estimator-doc-link.fitted:hover,\n",
       ".sk-estimator-doc-link.fitted:hover {\n",
       "  /* fitted */\n",
       "  background-color: var(--sklearn-color-fitted-level-3);\n",
       "  color: var(--sklearn-color-background);\n",
       "  text-decoration: none;\n",
       "}\n",
       "\n",
       "/* Span, style for the box shown on hovering the info icon */\n",
       ".sk-estimator-doc-link span {\n",
       "  display: none;\n",
       "  z-index: 9999;\n",
       "  position: relative;\n",
       "  font-weight: normal;\n",
       "  right: .2ex;\n",
       "  padding: .5ex;\n",
       "  margin: .5ex;\n",
       "  width: min-content;\n",
       "  min-width: 20ex;\n",
       "  max-width: 50ex;\n",
       "  color: var(--sklearn-color-text);\n",
       "  box-shadow: 2pt 2pt 4pt #999;\n",
       "  /* unfitted */\n",
       "  background: var(--sklearn-color-unfitted-level-0);\n",
       "  border: .5pt solid var(--sklearn-color-unfitted-level-3);\n",
       "}\n",
       "\n",
       ".sk-estimator-doc-link.fitted span {\n",
       "  /* fitted */\n",
       "  background: var(--sklearn-color-fitted-level-0);\n",
       "  border: var(--sklearn-color-fitted-level-3);\n",
       "}\n",
       "\n",
       ".sk-estimator-doc-link:hover span {\n",
       "  display: block;\n",
       "}\n",
       "\n",
       "/* \"?\"-specific style due to the `<a>` HTML tag */\n",
       "\n",
       "#sk-container-id-1 a.estimator_doc_link {\n",
       "  float: right;\n",
       "  font-size: 1rem;\n",
       "  line-height: 1em;\n",
       "  font-family: monospace;\n",
       "  background-color: var(--sklearn-color-background);\n",
       "  border-radius: 1rem;\n",
       "  height: 1rem;\n",
       "  width: 1rem;\n",
       "  text-decoration: none;\n",
       "  /* unfitted */\n",
       "  color: var(--sklearn-color-unfitted-level-1);\n",
       "  border: var(--sklearn-color-unfitted-level-1) 1pt solid;\n",
       "}\n",
       "\n",
       "#sk-container-id-1 a.estimator_doc_link.fitted {\n",
       "  /* fitted */\n",
       "  border: var(--sklearn-color-fitted-level-1) 1pt solid;\n",
       "  color: var(--sklearn-color-fitted-level-1);\n",
       "}\n",
       "\n",
       "/* On hover */\n",
       "#sk-container-id-1 a.estimator_doc_link:hover {\n",
       "  /* unfitted */\n",
       "  background-color: var(--sklearn-color-unfitted-level-3);\n",
       "  color: var(--sklearn-color-background);\n",
       "  text-decoration: none;\n",
       "}\n",
       "\n",
       "#sk-container-id-1 a.estimator_doc_link.fitted:hover {\n",
       "  /* fitted */\n",
       "  background-color: var(--sklearn-color-fitted-level-3);\n",
       "}\n",
       "</style><div id=\"sk-container-id-1\" class=\"sk-top-container\"><div class=\"sk-text-repr-fallback\"><pre>RandomForestClassifier(random_state=42)</pre><b>In a Jupyter environment, please rerun this cell to show the HTML representation or trust the notebook. <br />On GitHub, the HTML representation is unable to render, please try loading this page with nbviewer.org.</b></div><div class=\"sk-container\" hidden><div class=\"sk-item\"><div class=\"sk-estimator fitted sk-toggleable\"><input class=\"sk-toggleable__control sk-hidden--visually\" id=\"sk-estimator-id-1\" type=\"checkbox\" checked><label for=\"sk-estimator-id-1\" class=\"sk-toggleable__label fitted sk-toggleable__label-arrow fitted\">&nbsp;&nbsp;RandomForestClassifier<a class=\"sk-estimator-doc-link fitted\" rel=\"noreferrer\" target=\"_blank\" href=\"https://scikit-learn.org/1.5/modules/generated/sklearn.ensemble.RandomForestClassifier.html\">?<span>Documentation for RandomForestClassifier</span></a><span class=\"sk-estimator-doc-link fitted\">i<span>Fitted</span></span></label><div class=\"sk-toggleable__content fitted\"><pre>RandomForestClassifier(random_state=42)</pre></div> </div></div></div></div>"
      ],
      "text/plain": [
       "RandomForestClassifier(random_state=42)"
      ]
     },
     "execution_count": 37,
     "metadata": {},
     "output_type": "execute_result"
    }
   ],
   "source": [
    "rf = RandomForestClassifier( random_state = 42, n_estimators = 100)\n",
    "rf.fit(X_train, y_train)"
   ]
  },
  {
   "cell_type": "code",
   "execution_count": 38,
   "id": "8ad44fe1-5de9-47b9-9f2d-b30b1dbe6098",
   "metadata": {},
   "outputs": [
    {
     "name": "stdout",
     "output_type": "stream",
     "text": [
      "              precision    recall  f1-score   support\n",
      "\n",
      "           0       0.72      0.64      0.67      1648\n",
      "           1       0.73      0.80      0.77      2070\n",
      "\n",
      "    accuracy                           0.73      3718\n",
      "   macro avg       0.73      0.72      0.72      3718\n",
      "weighted avg       0.73      0.73      0.73      3718\n",
      "\n"
     ]
    }
   ],
   "source": [
    "y_pred = rf.predict(X_test)\n",
    "\n",
    "# Evaluate the model\n",
    "print(classification_report(y_test, y_pred))"
   ]
  },
  {
   "cell_type": "code",
   "execution_count": 39,
   "id": "6d1d4c6d-b44c-4c28-92b6-96f2599db814",
   "metadata": {},
   "outputs": [
    {
     "name": "stdout",
     "output_type": "stream",
     "text": [
      "[[1049  599]\n",
      " [ 414 1656]]\n"
     ]
    }
   ],
   "source": [
    "print(confusion_matrix(y_test, y_pred))"
   ]
  },
  {
   "cell_type": "code",
   "execution_count": 40,
   "id": "919b9cd9-556c-42f7-a285-f574d8f244c5",
   "metadata": {},
   "outputs": [
    {
     "name": "stdout",
     "output_type": "stream",
     "text": [
      "Fitting 5 folds for each of 20 candidates, totalling 100 fits\n",
      "Best Parameters: {'n_estimators': 300, 'min_samples_split': 2, 'min_samples_leaf': 1, 'max_depth': None, 'bootstrap': False}\n",
      "Classification Report:\n",
      "               precision    recall  f1-score   support\n",
      "\n",
      "           0       0.72      0.65      0.68      1648\n",
      "           1       0.74      0.80      0.77      2070\n",
      "\n",
      "    accuracy                           0.73      3718\n",
      "   macro avg       0.73      0.73      0.73      3718\n",
      "weighted avg       0.73      0.73      0.73      3718\n",
      "\n",
      "Confusion Matrix:\n",
      " [[1069  579]\n",
      " [ 409 1661]]\n"
     ]
    }
   ],
   "source": [
    "from sklearn.ensemble import RandomForestClassifier\n",
    "from sklearn.model_selection import RandomizedSearchCV\n",
    "\n",
    "# Define hyperparameter grid\n",
    "param_dist = {\n",
    "    'n_estimators': [100, 200, 300, 500],  # Number of trees\n",
    "    'max_depth': [10, 20, 30, None],       # Depth of trees\n",
    "    'min_samples_split': [2, 5, 10],       # Minimum samples to split a node\n",
    "    'min_samples_leaf': [1, 2, 4],         # Minimum samples per leaf\n",
    "    'bootstrap': [True, False]             # Bootstrapping technique\n",
    "}\n",
    "\n",
    "# Initialize Random Forest Classifier\n",
    "rf1 = RandomForestClassifier(class_weight = 'balanced', random_state=42)\n",
    "\n",
    "# Perform Randomized Search with Cross-Validation (5 folds)\n",
    "random_search = RandomizedSearchCV(\n",
    "    estimator=rf1,\n",
    "    param_distributions=param_dist,\n",
    "    n_iter=20,  # Number of different combinations to try\n",
    "    cv=5,  # 5-fold cross-validation\n",
    "    scoring='f1',  # Optimize for F1-score\n",
    "    verbose=2,\n",
    "    n_jobs=-1\n",
    ")\n",
    "\n",
    "# Fit model\n",
    "random_search.fit(X_train, y_train)\n",
    "\n",
    "# Best parameters\n",
    "print(\"Best Parameters:\", random_search.best_params_)\n",
    "\n",
    "# Train model with best params\n",
    "best_rf = random_search.best_estimator_\n",
    "best_rf.fit(X_train, y_train)\n",
    "\n",
    "# Predictions\n",
    "y_pred = best_rf.predict(X_test)\n",
    "\n",
    "# Performance Metrics\n",
    "from sklearn.metrics import classification_report, confusion_matrix\n",
    "print(\"Classification Report:\\n\", classification_report(y_test, y_pred))\n",
    "print(\"Confusion Matrix:\\n\", confusion_matrix(y_test, y_pred))\n"
   ]
  },
  {
   "cell_type": "code",
   "execution_count": 41,
   "id": "2fa123bc-8a39-4e06-a451-91a76b425ed5",
   "metadata": {},
   "outputs": [
    {
     "name": "stdout",
     "output_type": "stream",
     "text": [
      "       Feature  Importance\n",
      "4       income    0.066031\n",
      "6  CoffeeHouse    0.064204\n",
      "1          age    0.057299\n",
      "5          Bar    0.045875\n",
      "3    education    0.045561\n"
     ]
    }
   ],
   "source": [
    "feature_importances = pd.DataFrame({\n",
    "    'Feature': X_train.columns,\n",
    "    'Importance': best_rf.feature_importances_\n",
    "}).sort_values(by='Importance', ascending=False)\n",
    "\n",
    "print(feature_importances.head())"
   ]
  },
  {
   "cell_type": "markdown",
   "id": "c97d003e-102e-4576-973f-359bbe442c76",
   "metadata": {},
   "source": [
    "#### Random forest classifier with best features:"
   ]
  },
  {
   "cell_type": "code",
   "execution_count": 43,
   "id": "1f91d0cd-d76a-4cc3-8995-f263918870e9",
   "metadata": {},
   "outputs": [],
   "source": [
    "selected_features = ['income','CoffeeHouse','age','education','Bar']\n",
    "X_selected = data[selected_features]\n",
    "y_selected = data['Accept(Y/N?)']"
   ]
  },
  {
   "cell_type": "code",
   "execution_count": 44,
   "id": "fbbe9a77-e4ff-41fb-88ff-abfdecedb490",
   "metadata": {},
   "outputs": [],
   "source": [
    "X_train_selected, X_test_selected, y_train_selected, y_test_selected = train_test_split(X_selected, y_selected,stratify = y_selected, test_size=0.2, random_state=42)"
   ]
  },
  {
   "cell_type": "code",
   "execution_count": 45,
   "id": "96bc774f-ee01-473c-9bc8-ac19f744d793",
   "metadata": {},
   "outputs": [
    {
     "name": "stdout",
     "output_type": "stream",
     "text": [
      "[[659 417]\n",
      " [565 838]]\n",
      "              precision    recall  f1-score   support\n",
      "\n",
      "           0       0.54      0.61      0.57      1076\n",
      "           1       0.67      0.60      0.63      1403\n",
      "\n",
      "    accuracy                           0.60      2479\n",
      "   macro avg       0.60      0.60      0.60      2479\n",
      "weighted avg       0.61      0.60      0.61      2479\n",
      "\n"
     ]
    }
   ],
   "source": [
    "# Initialize and train the model\n",
    "rf2 = RandomForestClassifier(random_state=42, class_weight='balanced', n_estimators=120, max_depth=12)\n",
    "rf2.fit(X_train_selected, y_train_selected)\n",
    "\n",
    "# Predict on test data\n",
    "y_pred = rf2.predict(X_test_selected)\n",
    "\n",
    "# Evaluate the model\n",
    "print(confusion_matrix(y_test_selected, y_pred))\n",
    "print(classification_report(y_test_selected, y_pred))\n"
   ]
  },
  {
   "cell_type": "markdown",
   "id": "597ee595-e583-4508-9bde-4254dbf73798",
   "metadata": {},
   "source": [
    "#### XGB Classifier:"
   ]
  },
  {
   "cell_type": "code",
   "execution_count": 47,
   "id": "c0ead5f9-107d-4363-91fb-74d06a2912c4",
   "metadata": {},
   "outputs": [],
   "source": [
    "import xgboost as xgb"
   ]
  },
  {
   "cell_type": "code",
   "execution_count": 48,
   "id": "d4b2a6f5-a0e6-4251-bd3f-fcc0942c1df3",
   "metadata": {},
   "outputs": [],
   "source": [
    "# Convert feature column names to strings\n",
    "X_train.columns = X_train.columns.astype(str)\n",
    "X_test.columns = X_test.columns.astype(str)\n"
   ]
  },
  {
   "cell_type": "code",
   "execution_count": 49,
   "id": "1fbaa304-0b39-4917-a6c4-1296f21bed46",
   "metadata": {},
   "outputs": [],
   "source": [
    "X_train.columns = X_train.columns.str.replace(r\"[^a-zA-Z0-9_]\", \"\", regex=True)\n",
    "X_test.columns = X_test.columns.str.replace(r\"[^a-zA-Z0-9_]\", \"\", regex=True)\n"
   ]
  },
  {
   "cell_type": "code",
   "execution_count": 50,
   "id": "80c081c6-8348-4d3b-9f25-589fb4dcd403",
   "metadata": {},
   "outputs": [
    {
     "name": "stdout",
     "output_type": "stream",
     "text": [
      "Classification Report:\n",
      "               precision    recall  f1-score   support\n",
      "\n",
      "           0       0.73      0.67      0.70      1648\n",
      "           1       0.75      0.81      0.78      2070\n",
      "\n",
      "    accuracy                           0.75      3718\n",
      "   macro avg       0.74      0.74      0.74      3718\n",
      "weighted avg       0.74      0.75      0.74      3718\n",
      "\n",
      "Confusion Matrix:\n",
      " [[1103  545]\n",
      " [ 403 1667]]\n"
     ]
    }
   ],
   "source": [
    "# Initialize XGBoost Classifier\n",
    "xgb_model = xgb.XGBClassifier(objective='binary:logistic', eval_metric='logloss', use_label_encoder=False)\n",
    "\n",
    "# Train Model\n",
    "xgb_model.fit(X_train, y_train)\n",
    "\n",
    "# Predictions\n",
    "y_pred = xgb_model.predict(X_test)\n",
    "\n",
    "# Evaluation\n",
    "print(\"Classification Report:\\n\", classification_report(y_test, y_pred))\n",
    "print(\"Confusion Matrix:\\n\", confusion_matrix(y_test, y_pred))\n"
   ]
  },
  {
   "cell_type": "code",
   "execution_count": 115,
   "id": "2783d711-7f44-43f5-b2ff-b7ba2553cdef",
   "metadata": {},
   "outputs": [
    {
     "data": {
      "text/plain": [
       "<sklearn.metrics._plot.confusion_matrix.ConfusionMatrixDisplay at 0x22fd7251910>"
      ]
     },
     "execution_count": 115,
     "metadata": {},
     "output_type": "execute_result"
    },
    {
     "data": {
      "image/png": "[encoded data removed]",
      "text/plain": [
       "<Figure size 640x480 with 2 Axes>"
      ]
     },
     "metadata": {},
     "output_type": "display_data"
    }
   ],
   "source": [
    "from sklearn.metrics import ConfusionMatrixDisplay\n",
    "\n",
    "ConfusionMatrixDisplay.from_estimator(xgb_model, X_test, y_test)"
   ]
  },
  {
   "cell_type": "markdown",
   "id": "83f07926-5b3b-4dcf-8214-36c95aeefabc",
   "metadata": {},
   "source": [
    "#### XGB Classifer with hyperparameter tuning"
   ]
  },
  {
   "cell_type": "code",
   "execution_count": 52,
   "id": "f542ad65-7101-4326-b683-90ddd1d9d147",
   "metadata": {},
   "outputs": [
    {
     "name": "stdout",
     "output_type": "stream",
     "text": [
      "Fitting 5 folds for each of 20 candidates, totalling 100 fits\n",
      "Best Parameters: {'subsample': 0.8, 'n_estimators': 500, 'max_depth': 10, 'learning_rate': 0.01, 'lambda': 2, 'gamma': 0.1, 'colsample_bytree': 0.8}\n",
      "Classification Report:\n",
      "               precision    recall  f1-score   support\n",
      "\n",
      "           0       0.73      0.65      0.69      1648\n",
      "           1       0.75      0.81      0.78      2070\n",
      "\n",
      "    accuracy                           0.74      3718\n",
      "   macro avg       0.74      0.73      0.73      3718\n",
      "weighted avg       0.74      0.74      0.74      3718\n",
      "\n",
      "Confusion Matrix:\n",
      " [[1079  569]\n",
      " [ 391 1679]]\n"
     ]
    }
   ],
   "source": [
    "param_grid = {\n",
    "    'n_estimators': [100, 300, 500],\n",
    "    'max_depth': [3, 6, 10],\n",
    "    'learning_rate': [0.01, 0.05, 0.1],\n",
    "    'subsample': [0.7, 0.8, 1.0],\n",
    "    'colsample_bytree': [0.7, 0.8, 1.0],\n",
    "    'gamma': [0, 0.1, 0.2],\n",
    "    'lambda': [1, 1.5, 2]\n",
    "}\n",
    "\n",
    "xgb_random = RandomizedSearchCV(\n",
    "    estimator=xgb.XGBClassifier(objective='binary:logistic', eval_metric='logloss', use_label_encoder=False),\n",
    "    param_distributions=param_grid,\n",
    "    n_iter=20,  # Number of combinations\n",
    "    scoring='f1',\n",
    "    cv=5,\n",
    "    verbose=2,\n",
    "    n_jobs=-1\n",
    ")\n",
    "\n",
    "# Fit Randomized Search\n",
    "xgb_random.fit(X_train, y_train)\n",
    "\n",
    "# Best Parameters\n",
    "print(\"Best Parameters:\", xgb_random.best_params_)\n",
    "\n",
    "# Train with Best Parameters\n",
    "best_xgb = xgb_random.best_estimator_\n",
    "best_xgb.fit(X_train, y_train)\n",
    "\n",
    "# Predictions\n",
    "y_pred_best = best_xgb.predict(X_test)\n",
    "\n",
    "# Evaluation\n",
    "print(\"Classification Report:\\n\", classification_report(y_test, y_pred_best))\n",
    "print(\"Confusion Matrix:\\n\", confusion_matrix(y_test, y_pred_best))\n"
   ]
  },
  {
   "cell_type": "code",
   "execution_count": 117,
   "id": "e10aeafb-d627-479c-b624-f4180edf31fd",
   "metadata": {},
   "outputs": [
    {
     "data": {
      "text/plain": [
       "<sklearn.metrics._plot.confusion_matrix.ConfusionMatrixDisplay at 0x22fd63dd7c0>"
      ]
     },
     "execution_count": 117,
     "metadata": {},
     "output_type": "execute_result"
    },
    {
     "data": {
      "image/png": "[encoded data removed]",
      "text/plain": [
       "<Figure size 640x480 with 2 Axes>"
      ]
     },
     "metadata": {},
     "output_type": "display_data"
    }
   ],
   "source": [
    "ConfusionMatrixDisplay.from_estimator(best_xgb, X_test, y_test)"
   ]
  },
  {
   "cell_type": "markdown",
   "id": "9c44ff5a-90c6-4002-83a1-43c4180f83f2",
   "metadata": {},
   "source": [
    "#### Light GBM Classifier:"
   ]
  },
  {
   "cell_type": "code",
   "execution_count": 54,
   "id": "ed61587a-4717-4043-9a6f-46e88683e78a",
   "metadata": {},
   "outputs": [],
   "source": [
    "import lightgbm as lgb"
   ]
  },
  {
   "cell_type": "code",
   "execution_count": 95,
   "id": "ae9d00a4-d901-4617-8bc6-687adfd36457",
   "metadata": {},
   "outputs": [
    {
     "name": "stdout",
     "output_type": "stream",
     "text": [
      "[LightGBM] [Warning] lambda_l2 is set=2, reg_lambda=0.0 will be ignored. Current value: lambda_l2=2\n",
      "[LightGBM] [Warning] lambda_l2 is set=2, reg_lambda=0.0 will be ignored. Current value: lambda_l2=2\n",
      "[LightGBM] [Info] Number of positive: 4942, number of negative: 3733\n",
      "[LightGBM] [Info] Auto-choosing row-wise multi-threading, the overhead of testing was 0.000802 seconds.\n",
      "You can set `force_row_wise=true` to remove the overhead.\n",
      "And if memory is not enough, you can set `force_col_wise=true`.\n",
      "[LightGBM] [Info] Total Bins 144\n",
      "[LightGBM] [Info] Number of data points in the train set: 8675, number of used features: 55\n",
      "[LightGBM] [Info] [binary:BoostFromScore]: pavg=0.569683 -> initscore=0.280558\n",
      "[LightGBM] [Info] Start training from score 0.280558\n",
      "[LightGBM] [Warning] lambda_l2 is set=2, reg_lambda=0.0 will be ignored. Current value: lambda_l2=2\n",
      "Classification Report:\n",
      "               precision    recall  f1-score   support\n",
      "\n",
      "           0       0.72      0.65      0.68      1648\n",
      "           1       0.74      0.80      0.77      2070\n",
      "\n",
      "    accuracy                           0.73      3718\n",
      "   macro avg       0.73      0.72      0.72      3718\n",
      "weighted avg       0.73      0.73      0.73      3718\n",
      "\n",
      "Confusion Matrix:\n",
      " [[1064  584]\n",
      " [ 414 1656]]\n"
     ]
    }
   ],
   "source": [
    "lgb_params = {\n",
    "    'objective': 'binary',  # Binary classification\n",
    "    'metric': 'binary_logloss',\n",
    "    'boosting_type': 'gbdt',\n",
    "    'num_leaves': 31,\n",
    "    'learning_rate': 0.05,\n",
    "    'n_estimators': 300,\n",
    "    'max_depth': -1,\n",
    "    'lambda_l2': 2,\n",
    "    'colsample_bytree': 0.8,\n",
    "    'subsample': 0.8\n",
    "}\n",
    "\n",
    "# Train LightGBM model\n",
    "lgb_clf = lgb.LGBMClassifier(**lgb_params)\n",
    "lgb_clf.fit(X_train, y_train)\n",
    "\n",
    "# Predictions\n",
    "y_pred = lgb_clf.predict(X_test)\n",
    "\n",
    "# Evaluation\n",
    "print(\"Classification Report:\\n\", classification_report(y_test, y_pred))\n",
    "print(\"Confusion Matrix:\\n\", confusion_matrix(y_test, y_pred))\n"
   ]
  },
  {
   "cell_type": "code",
   "execution_count": 103,
   "id": "cdf1a8de-c5da-41d2-832e-4ac36c12fbb7",
   "metadata": {},
   "outputs": [
    {
     "data": {
      "text/html": [
       "<div>\n",
       "<style scoped>\n",
       "    .dataframe tbody tr th:only-of-type {\n",
       "        vertical-align: middle;\n",
       "    }\n",
       "\n",
       "    .dataframe tbody tr th {\n",
       "        vertical-align: top;\n",
       "    }\n",
       "\n",
       "    .dataframe thead th {\n",
       "        text-align: right;\n",
       "    }\n",
       "</style>\n",
       "<table border=\"1\" class=\"dataframe\">\n",
       "  <thead>\n",
       "    <tr style=\"text-align: right;\">\n",
       "      <th></th>\n",
       "      <th>Model</th>\n",
       "      <th>Accuracy</th>\n",
       "      <th>Precision (Class 1)</th>\n",
       "      <th>Recall (Class 1)</th>\n",
       "      <th>F1-Score (Class 1)</th>\n",
       "    </tr>\n",
       "  </thead>\n",
       "  <tbody>\n",
       "    <tr>\n",
       "      <th>0</th>\n",
       "      <td>Random Forest</td>\n",
       "      <td>0.73</td>\n",
       "      <td>0.73</td>\n",
       "      <td>0.80</td>\n",
       "      <td>0.77</td>\n",
       "    </tr>\n",
       "    <tr>\n",
       "      <th>1</th>\n",
       "      <td>Random Forest (tuned)</td>\n",
       "      <td>0.73</td>\n",
       "      <td>0.74</td>\n",
       "      <td>0.80</td>\n",
       "      <td>0.77</td>\n",
       "    </tr>\n",
       "    <tr>\n",
       "      <th>2</th>\n",
       "      <td>XGBoost</td>\n",
       "      <td>0.75</td>\n",
       "      <td>0.75</td>\n",
       "      <td>0.81</td>\n",
       "      <td>0.78</td>\n",
       "    </tr>\n",
       "    <tr>\n",
       "      <th>3</th>\n",
       "      <td>XGBoost (tuned)</td>\n",
       "      <td>0.74</td>\n",
       "      <td>0.75</td>\n",
       "      <td>0.81</td>\n",
       "      <td>0.78</td>\n",
       "    </tr>\n",
       "    <tr>\n",
       "      <th>4</th>\n",
       "      <td>Light GBM</td>\n",
       "      <td>0.73</td>\n",
       "      <td>0.74</td>\n",
       "      <td>0.80</td>\n",
       "      <td>0.77</td>\n",
       "    </tr>\n",
       "  </tbody>\n",
       "</table>\n",
       "</div>"
      ],
      "text/plain": [
       "                   Model  Accuracy  Precision (Class 1)  Recall (Class 1)  \\\n",
       "0          Random Forest      0.73                 0.73              0.80   \n",
       "1  Random Forest (tuned)      0.73                 0.74              0.80   \n",
       "2                XGBoost      0.75                 0.75              0.81   \n",
       "3        XGBoost (tuned)      0.74                 0.75              0.81   \n",
       "4              Light GBM      0.73                 0.74              0.80   \n",
       "\n",
       "   F1-Score (Class 1)  \n",
       "0                0.77  \n",
       "1                0.77  \n",
       "2                0.78  \n",
       "3                0.78  \n",
       "4                0.77  "
      ]
     },
     "metadata": {},
     "output_type": "display_data"
    }
   ],
   "source": [
    "results = {\n",
    "    \"Model\": [\"Random Forest\", \"Random Forest (tuned)\", \"XGBoost\", \"XGBoost (tuned)\", \"Light GBM\"],\n",
    "    \"Accuracy\": [0.73,0.73,0.75,0.74,0.73],\n",
    "    \"Precision (Class 1)\": [0.73,0.74,0.75,0.75,0.74],\n",
    "    \"Recall (Class 1)\": [0.80,0.80,0.81,0.81,0.80],\n",
    "    \"F1-Score (Class 1)\": [0.77,0.77,0.78,0.78,0.77],\n",
    "}\n",
    "results_df = pd.DataFrame(results)\n",
    "display(results_df)\n"
   ]
  },
  {
   "cell_type": "markdown",
   "id": "1f67f3bc-8185-4ee1-b310-666d2842779a",
   "metadata": {},
   "source": [
    "# Conclusion:\n",
    "\n",
    "In this project, we developed a machine learning model to predict whether users would accept coupons during their journeys based on various contextual and user attributes. The objective was to optimize coupon distribution strategies and enhance user engagement.\n",
    "\n",
    "### Key Insights\n",
    "- **XGBoost (both baseline and tuned) performed the best**, achieving the highest accuracy (75%) and F1-score (0.78).  \n",
    "- Random Forest and LightGBM provided similar results but did not outperform XGBoost.  \n",
    "- The recall for Class 1 (coupon acceptance) was consistently high (~80-81%), indicating the model’s effectiveness in identifying users likely to accept coupons.  \n"
   ]
  }
 ],
 "metadata": {
  "kernelspec": {
   "display_name": "Python 3 (ipykernel)",
   "language": "python",
   "name": "python3"
  },
  "language_info": {
   "codemirror_mode": {
    "name": "ipython",
    "version": 3
   },
   "file_extension": ".py",
   "mimetype": "text/x-python",
   "name": "python",
   "nbconvert_exporter": "python",
   "pygments_lexer": "ipython3",
   "version": "3.12.7"
  }
 },
 "nbformat": 4,
 "nbformat_minor": 5
}
